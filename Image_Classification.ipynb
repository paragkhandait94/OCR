{
  "nbformat": 4,
  "nbformat_minor": 0,
  "metadata": {
    "colab": {
      "provenance": [],
      "authorship_tag": "ABX9TyMrtGOlLSokCgJt7c8rSkxQ",
      "include_colab_link": true
    },
    "kernelspec": {
      "name": "python3",
      "display_name": "Python 3"
    },
    "language_info": {
      "name": "python"
    }
  },
  "cells": [
    {
      "cell_type": "markdown",
      "metadata": {
        "id": "view-in-github",
        "colab_type": "text"
      },
      "source": [
        "<a href=\"https://colab.research.google.com/github/paragkhandait94/OCR/blob/main/Image_Classification.ipynb\" target=\"_parent\"><img src=\"https://colab.research.google.com/assets/colab-badge.svg\" alt=\"Open In Colab\"/></a>"
      ]
    },
    {
      "cell_type": "markdown",
      "source": [
        "# Image Classification for MNIST dataset"
      ],
      "metadata": {
        "id": "82eUBTjbwgGj"
      }
    },
    {
      "cell_type": "code",
      "execution_count": null,
      "metadata": {
        "id": "11p_3aXpFMII"
      },
      "outputs": [],
      "source": [
        "import keras\n"
      ]
    },
    {
      "cell_type": "code",
      "source": [
        "from keras.datasets import mnist"
      ],
      "metadata": {
        "id": "CAptkEWVGPaP"
      },
      "execution_count": null,
      "outputs": []
    },
    {
      "cell_type": "code",
      "source": [
        "(X_train, y_train), (X_test, y_test) = mnist.load_data()"
      ],
      "metadata": {
        "colab": {
          "base_uri": "https://localhost:8080/"
        },
        "id": "98zI3kOQGSqc",
        "outputId": "cf49e625-ef8b-4eb4-add9-72a83d4a3160"
      },
      "execution_count": null,
      "outputs": [
        {
          "output_type": "stream",
          "name": "stdout",
          "text": [
            "Downloading data from https://storage.googleapis.com/tensorflow/tf-keras-datasets/mnist.npz\n",
            "11490434/11490434 [==============================] - 0s 0us/step\n"
          ]
        }
      ]
    },
    {
      "cell_type": "code",
      "source": [
        "print(\"X_train shape\", X_train.shape)\n",
        "print(\"y_train shape\", y_train.shape)\n",
        "print(\"X_test shape\", X_test.shape)\n",
        "print(\"y_test shape\", y_test.shape)"
      ],
      "metadata": {
        "colab": {
          "base_uri": "https://localhost:8080/"
        },
        "id": "BGiHdSywG6b0",
        "outputId": "a96b8a5b-f833-4299-e75b-035d9dda4069"
      },
      "execution_count": null,
      "outputs": [
        {
          "output_type": "stream",
          "name": "stdout",
          "text": [
            "X_train shape (60000, 28, 28)\n",
            "y_train shape (60000,)\n",
            "X_test shape (10000, 28, 28)\n",
            "y_test shape (10000,)\n"
          ]
        }
      ]
    },
    {
      "cell_type": "code",
      "source": [
        "from keras.datasets import mnist\n",
        "from keras.models import Sequential\n",
        "from keras.layers import Dense, Dropout, Conv2D, MaxPool2D\n",
        "# from keras.utils import np_utils"
      ],
      "metadata": {
        "id": "og7tKQhaHWj4"
      },
      "execution_count": null,
      "outputs": []
    },
    {
      "cell_type": "code",
      "source": [
        "X_train = X_train.reshape(60000, 784)\n",
        "X_test = X_test.reshape(10000, 784)\n",
        "X_train = X_train.astype('float32')\n",
        "X_test = X_test.astype('float32')"
      ],
      "metadata": {
        "id": "--ocveEwHxx7"
      },
      "execution_count": null,
      "outputs": []
    },
    {
      "cell_type": "code",
      "source": [
        "X_train /= 255\n",
        "X_test /= 255\n",
        "\n",
        "# one-hot encoding using keras' numpy-related utilities\n",
        "n_classes = 10\n",
        "print(\"Shape before one-hot encoding: \", y_train.shape)\n",
        "Y_train = keras.utils.to_categorical(y_train, n_classes)\n",
        "Y_test = keras.utils.to_categorical(y_test, n_classes)\n",
        "print(\"Shape after one-hot encoding: \", Y_train.shape)"
      ],
      "metadata": {
        "colab": {
          "base_uri": "https://localhost:8080/"
        },
        "id": "NnVPbm95H1xf",
        "outputId": "399354fe-9a93-48d2-903d-6cf61f2cd97b"
      },
      "execution_count": null,
      "outputs": [
        {
          "output_type": "stream",
          "name": "stdout",
          "text": [
            "Shape before one-hot encoding:  (60000,)\n",
            "Shape after one-hot encoding:  (60000, 10)\n"
          ]
        }
      ]
    },
    {
      "cell_type": "code",
      "source": [
        "# building a linear stack of layers with the sequential model\n",
        "model = Sequential()\n",
        "# hidden layer\n",
        "model.add(Dense(100, input_shape=(784,), activation='relu'))\n",
        "# output layer\n",
        "model.add(Dense(10, activation='softmax'))\n",
        "\n",
        "# looking at the model summary\n",
        "model.summary()\n",
        "# compiling the sequential model\n",
        "model.compile(loss='categorical_crossentropy', metrics=['accuracy'], optimizer='adam')\n",
        "# training the model for 10 epochs\n",
        "model.fit(X_train, Y_train, batch_size=128, epochs=15, validation_data=(X_test, Y_test))"
      ],
      "metadata": {
        "id": "uyfGh16OIEj0"
      },
      "execution_count": null,
      "outputs": []
    },
    {
      "cell_type": "markdown",
      "source": [
        "# Image Classification for CIFAR-10 dataset"
      ],
      "metadata": {
        "id": "n4OASfJ6JVKS"
      }
    },
    {
      "cell_type": "code",
      "source": [
        "# keras imports for the dataset and building our neural network\n",
        "from keras.datasets import cifar10\n",
        "from keras.models import Sequential\n",
        "from keras.layers import Dense, Dropout, Conv2D, MaxPool2D, Flatten\n",
        "# from keras.utils import np_utils\n",
        "\n",
        "# loading the dataset\n",
        "(X_train, y_train), (X_test, y_test) = cifar10.load_data()\n",
        "\n",
        "# # building the input vector from the 32x32 pixels\n",
        "X_train = X_train.reshape(X_train.shape[0], 32, 32, 3)\n",
        "X_test = X_test.reshape(X_test.shape[0], 32, 32, 3)\n",
        "X_train = X_train.astype('float32')\n",
        "X_test = X_test.astype('float32')\n",
        "\n",
        "# normalizing the data to help with the training\n",
        "X_train /= 255\n",
        "X_test /= 255\n",
        "\n",
        "# one-hot encoding using keras' numpy-related utilities\n",
        "n_classes = 10\n",
        "print(\"Shape before one-hot encoding: \", y_train.shape)\n",
        "Y_train = keras.utils.to_categorical(y_train, n_classes)\n",
        "Y_test = keras.utils.to_categorical(y_test, n_classes)\n",
        "print(\"Shape after one-hot encoding: \", Y_train.shape)\n",
        "\n",
        "# building a linear stack of layers with the sequential model\n",
        "model = Sequential()\n",
        "\n",
        "# convolutional layer\n",
        "model.add(Conv2D(50, kernel_size=(3,3), strides=(1,1), padding='same', activation='relu', input_shape=(32, 32, 3)))\n",
        "\n",
        "# convolutional layer\n",
        "model.add(Conv2D(75, kernel_size=(3,3), strides=(1,1), padding='same', activation='relu'))\n",
        "model.add(MaxPool2D(pool_size=(2,2)))\n",
        "model.add(Dropout(0.25))\n",
        "\n",
        "model.add(Conv2D(125, kernel_size=(3,3), strides=(1,1), padding='same', activation='relu'))\n",
        "model.add(MaxPool2D(pool_size=(2,2)))\n",
        "model.add(Dropout(0.25))\n",
        "\n",
        "# flatten output of conv\n",
        "model.add(Flatten())\n",
        "\n",
        "# hidden layer\n",
        "model.add(Dense(500, activation='relu'))\n",
        "model.add(Dropout(0.4))\n",
        "model.add(Dense(250, activation='relu'))\n",
        "model.add(Dropout(0.3))\n",
        "# output layer\n",
        "model.add(Dense(10, activation='softmax'))\n",
        "\n",
        "# compiling the sequential model\n",
        "model.compile(loss='categorical_crossentropy', metrics=['accuracy'], optimizer='adam')\n",
        "\n",
        "# training the model for 10 epochs\n",
        "model.fit(X_train, Y_train, batch_size=128, epochs=10, validation_data=(X_test, Y_test))"
      ],
      "metadata": {
        "id": "G-FylN51JUWc"
      },
      "execution_count": null,
      "outputs": []
    },
    {
      "cell_type": "markdown",
      "source": [
        "# Image Classification for PAN Card"
      ],
      "metadata": {
        "id": "uIi0fOrkOOdA"
      }
    },
    {
      "cell_type": "markdown",
      "source": [
        "**Download the file from Google Drive**"
      ],
      "metadata": {
        "id": "9wQLaOwqwyqH"
      }
    },
    {
      "cell_type": "code",
      "source": [
        "from pydrive.auth import GoogleAuth\n",
        "from pydrive.drive import GoogleDrive\n",
        "from google.colab import auth\n",
        "from oauth2client.client import GoogleCredentials"
      ],
      "metadata": {
        "colab": {
          "base_uri": "https://localhost:8080/"
        },
        "id": "VLt6qfm-O29j",
        "outputId": "f0d55ede-d9bb-4676-d375-f40a4b1cf922"
      },
      "execution_count": null,
      "outputs": [
        {
          "output_type": "stream",
          "name": "stderr",
          "text": [
            "WARNING:root:pydrive is deprecated and no longer maintained. We recommend that you migrate your projects to pydrive2, the maintained fork of pydrive\n"
          ]
        }
      ]
    },
    {
      "cell_type": "code",
      "source": [
        "auth.authenticate_user()\n",
        "gauth = GoogleAuth()\n",
        "gauth.credentials = GoogleCredentials.get_application_default()\n",
        "drive = GoogleDrive(gauth)"
      ],
      "metadata": {
        "id": "SNT7iWZ8O99l"
      },
      "execution_count": null,
      "outputs": []
    },
    {
      "cell_type": "code",
      "source": [
        "download = drive.CreateFile({'id': '1Q7L-3oNTzG1r5X7sAV5yg7urvOtmhept'})"
      ],
      "metadata": {
        "id": "Q8v2T98APH8Z"
      },
      "execution_count": null,
      "outputs": []
    },
    {
      "cell_type": "code",
      "source": [
        "download.GetContentFile('train.zip')\n",
        "!unzip train.zip"
      ],
      "metadata": {
        "id": "5zNgr221P0Ng"
      },
      "execution_count": null,
      "outputs": []
    },
    {
      "cell_type": "markdown",
      "source": [
        "**Create the model using the dataset**"
      ],
      "metadata": {
        "id": "PjBrPl6sw7Xt"
      }
    },
    {
      "cell_type": "code",
      "source": [
        "import keras\n",
        "from keras.models import Sequential\n",
        "from keras.layers import Dense, Dropout, Flatten\n",
        "from keras.layers import Conv2D, MaxPooling2D\n",
        "from keras.utils import to_categorical\n",
        "from keras.preprocessing import image\n",
        "import numpy as np\n",
        "import pandas as pd\n",
        "import matplotlib.pyplot as plt\n",
        "from sklearn.model_selection import train_test_split\n",
        "from keras.utils import to_categorical\n",
        "from tqdm import tqdm"
      ],
      "metadata": {
        "id": "erPSkQ_CQHzJ"
      },
      "execution_count": 1,
      "outputs": []
    },
    {
      "cell_type": "code",
      "source": [
        "from keras.preprocessing.image import ImageDataGenerator\n",
        "train_data_dir = '/content/pan_card_data/training_set'\n",
        "test_data_dir = '/content/pan_card_data/testing_set'\n",
        "img_width, img_height = 400, 240\n",
        "batch_size = 32\n",
        "train_datagen = ImageDataGenerator(\n",
        "    rescale=1./255,\n",
        "    shear_range=0.2,\n",
        "    zoom_range=0.2,\n",
        "    horizontal_flip=True\n",
        ")\n",
        "\n",
        "test_datagen = ImageDataGenerator(rescale = 1./255)"
      ],
      "metadata": {
        "id": "0JxCwrJCQONr"
      },
      "execution_count": 99,
      "outputs": []
    },
    {
      "cell_type": "code",
      "source": [
        "# Load and preprocess the training data\n",
        "# import os\n",
        "# all_files = os.listdir(train_data_dir)\n",
        "\n",
        "# # Filter out files from '.ipynb_checkpoints' directory\n",
        "# filtered_files = [file for file in all_files if '.ipynb_checkpoints' not in file]\n",
        "\n",
        "train_generator = train_datagen.flow_from_directory(\n",
        "    train_data_dir,\n",
        "    target_size=(img_width, img_height),\n",
        "    batch_size=batch_size,\n",
        "    class_mode='binary',  # Change to 'binary' if you have two classes,\n",
        "    classes=['pan_card', 'aadhar_card']\n",
        ")\n",
        "\n",
        "test_generator = test_datagen.flow_from_directory(\n",
        "    test_data_dir,\n",
        "    target_size=(img_width, img_height),\n",
        "    batch_size=batch_size,\n",
        "    class_mode='binary',  # Change to 'binary' if you have two classes,\n",
        "    classes=['pan_card', 'aadhar_card']\n",
        ")\n",
        "\n",
        "class_labels = train_generator.class_indices\n",
        "print(\"Class Labels:\", class_labels)\n",
        "\n",
        "# Reverse the dictionary to get class names from labels\n",
        "class_names = {v: k for k, v in class_labels.items()}\n",
        "print(\"Class Names:\", class_names)\n",
        "\n",
        "print(\"Class Indices - Training:\", train_generator.class_indices)\n",
        "print(\"Class Indices - Validation:\", test_generator.class_indices)"
      ],
      "metadata": {
        "colab": {
          "base_uri": "https://localhost:8080/"
        },
        "id": "rsdW1O1SRLXI",
        "outputId": "8f187d3c-d7e5-4881-a692-599a9d30af17"
      },
      "execution_count": 28,
      "outputs": [
        {
          "output_type": "stream",
          "name": "stdout",
          "text": [
            "Found 2136 images belonging to 2 classes.\n",
            "Found 99 images belonging to 2 classes.\n",
            "Class Labels: {'pan_card': 0, 'aadhar_card': 1}\n",
            "Class Names: {0: 'pan_card', 1: 'aadhar_card'}\n",
            "Class Indices - Training: {'pan_card': 0, 'aadhar_card': 1}\n",
            "Class Indices - Validation: {'pan_card': 0, 'aadhar_card': 1}\n"
          ]
        }
      ]
    },
    {
      "cell_type": "markdown",
      "source": [
        "**Create the model**"
      ],
      "metadata": {
        "id": "Wk_Hn4X9TWqR"
      }
    },
    {
      "cell_type": "code",
      "source": [
        "model = Sequential()\n",
        "model.add(Conv2D(32, (3, 3), input_shape=(img_width, img_height, 3), activation='relu'))\n",
        "model.add(MaxPooling2D(pool_size=(2, 2)))\n",
        "\n",
        "model.add(Conv2D(64, (3, 3), activation='relu'))\n",
        "model.add(MaxPooling2D(pool_size=(2, 2)))\n",
        "\n",
        "model.add(Conv2D(128, (3, 3), activation='relu'))\n",
        "model.add(MaxPooling2D(pool_size=(2, 2)))\n",
        "\n",
        "model.add(Flatten())\n",
        "model.add(Dense(256, activation='relu'))\n",
        "model.add(Dense(1, activation='sigmoid'))"
      ],
      "metadata": {
        "id": "c5wlF2ETTWQV"
      },
      "execution_count": 29,
      "outputs": []
    },
    {
      "cell_type": "code",
      "source": [
        "# Compiling the CNN\n",
        "model.compile(optimizer = 'adam', loss = 'binary_crossentropy', metrics = ['accuracy'])\n",
        "\n"
      ],
      "metadata": {
        "id": "zjS5Dc2eUVOC"
      },
      "execution_count": 30,
      "outputs": []
    },
    {
      "cell_type": "code",
      "source": [
        "model.fit(train_generator,\n",
        "          steps_per_epoch = 3000/batch_size,\n",
        "          epochs = 10,\n",
        "          validation_data = test_generator,\n",
        "          validation_steps = 1000/batch_size)\n",
        "# model.fit(\n",
        "#     train_generator,\n",
        "#     epochs=10,  # Adjust the number of epochs as needed\n",
        "# )"
      ],
      "metadata": {
        "colab": {
          "base_uri": "https://localhost:8080/"
        },
        "id": "0w2msdyvUXDN",
        "outputId": "79c7d4ff-bdf0-4bfb-e206-0bed52b74265"
      },
      "execution_count": 101,
      "outputs": [
        {
          "output_type": "stream",
          "name": "stdout",
          "text": [
            "Epoch 1/10\n",
            "94/93 [==============================] - ETA: 0s - loss: 0.1431 - accuracy: 0.9383"
          ]
        },
        {
          "output_type": "stream",
          "name": "stderr",
          "text": [
            "WARNING:tensorflow:Your input ran out of data; interrupting training. Make sure that your dataset or generator can generate at least `steps_per_epoch * epochs` batches (in this case, 31.25 batches). You may need to use the repeat() function when building your dataset.\n"
          ]
        },
        {
          "output_type": "stream",
          "name": "stdout",
          "text": [
            "\b\b\b\b\b\b\b\b\b\b\b\b\b\b\b\b\b\b\b\b\b\b\b\b\b\b\b\b\b\b\b\b\b\b\b\b\b\b\b\b\b\b\b\b\b\b\b\b\b\b\b\b\b\b\b\b\b\b\b\b\b\b\b\b\b\b\b\b\b\b\b\b\b\b\b\b\b\b\b\b\b\b\r93/93 [==============================] - 298s 3s/step - loss: 0.1431 - accuracy: 0.9383 - val_loss: 0.2558 - val_accuracy: 0.8990\n",
            "Epoch 2/10\n",
            "93/93 [==============================] - 287s 3s/step - loss: 0.2316 - accuracy: 0.9096\n",
            "Epoch 3/10\n",
            "93/93 [==============================] - 289s 3s/step - loss: 0.1403 - accuracy: 0.9426\n",
            "Epoch 4/10\n",
            "93/93 [==============================] - 285s 3s/step - loss: 0.1758 - accuracy: 0.9436\n",
            "Epoch 5/10\n",
            "93/93 [==============================] - 285s 3s/step - loss: 0.1499 - accuracy: 0.9511\n",
            "Epoch 6/10\n",
            "93/93 [==============================] - 293s 3s/step - loss: 0.1066 - accuracy: 0.9626\n",
            "Epoch 7/10\n",
            "93/93 [==============================] - 286s 3s/step - loss: 0.0778 - accuracy: 0.9701\n",
            "Epoch 8/10\n",
            "93/93 [==============================] - 282s 3s/step - loss: 0.0830 - accuracy: 0.9649\n",
            "Epoch 9/10\n",
            "93/93 [==============================] - 294s 3s/step - loss: 0.0664 - accuracy: 0.9766\n",
            "Epoch 10/10\n",
            "93/93 [==============================] - 309s 3s/step - loss: 0.1606 - accuracy: 0.9457\n"
          ]
        },
        {
          "output_type": "execute_result",
          "data": {
            "text/plain": [
              "<keras.src.callbacks.History at 0x7bef4b27c2b0>"
            ]
          },
          "metadata": {},
          "execution_count": 101
        }
      ]
    },
    {
      "cell_type": "markdown",
      "source": [
        "**Test using random images**"
      ],
      "metadata": {
        "id": "YMa5eGYJxLvz"
      }
    },
    {
      "cell_type": "code",
      "source": [
        "# Save the model\n",
        "# model.save('pan_aadhar_model.h5')"
      ],
      "metadata": {
        "id": "keHxPAai3Y1n"
      },
      "execution_count": null,
      "outputs": []
    },
    {
      "cell_type": "code",
      "source": [
        "import os\n",
        "import random\n",
        "import numpy as np\n",
        "from keras.preprocessing.image import img_to_array\n",
        "test_dir = ['/content/pan_card_data/testing_set/pan_card','/content/pan_card_data/testing_set/aadhar_card']\n",
        "random_num = random.randrange(0,2)\n",
        "print(random_num)\n",
        "\n",
        "# List all files in the test directory\n",
        "all_files = os.listdir(test_dir[random_num])\n",
        "\n",
        "# Select a random image file\n",
        "random_file = random.choice(all_files)\n",
        "\n",
        "\n",
        "# Load and preprocess the selected image\n",
        "img_path = os.path.join(test_dir[random_num], random_file)\n",
        "img = image.load_img(img_path, target_size=(img_width, img_height))\n",
        "img_array = img_to_array(img)\n",
        "img_array = np.expand_dims(img_array, axis=0)\n",
        "img_array /= 255.0  # Assuming you used rescale=1./255 during training\n",
        "\n",
        "# Make predictions\n",
        "predictions = model.predict(img_array)\n",
        "\n",
        "print(predictions)\n",
        "\n",
        "# Assuming it's a binary classification task, round the prediction to 0 or 1\n",
        "binary_prediction = (predictions > 0.5).astype(int)\n",
        "\n",
        "# Display the results\n",
        "print(\"Random Image File:\", random_file)\n",
        "print(\"Predicted Label:\", binary_prediction)"
      ],
      "metadata": {
        "colab": {
          "base_uri": "https://localhost:8080/"
        },
        "id": "0XBkFXsah0VT",
        "outputId": "96a8940e-5ad4-46a0-fa9c-8dd7951c6485"
      },
      "execution_count": 123,
      "outputs": [
        {
          "output_type": "stream",
          "name": "stdout",
          "text": [
            "1\n",
            "1/1 [==============================] - 0s 90ms/step\n",
            "[[0.71246797]]\n",
            "Random Image File: aadhar (51).jpg\n",
            "Predicted Label: [[1]]\n"
          ]
        }
      ]
    },
    {
      "cell_type": "code",
      "source": [],
      "metadata": {
        "id": "gW7CCzZEvFF0"
      },
      "execution_count": null,
      "outputs": []
    }
  ]
}