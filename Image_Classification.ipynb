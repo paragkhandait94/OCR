{
  "nbformat": 4,
  "nbformat_minor": 0,
  "metadata": {
    "colab": {
      "provenance": [],
      "authorship_tag": "ABX9TyN/bvFv3JWugyjlV7afwabP",
      "include_colab_link": true
    },
    "kernelspec": {
      "name": "python3",
      "display_name": "Python 3"
    },
    "language_info": {
      "name": "python"
    }
  },
  "cells": [
    {
      "cell_type": "markdown",
      "metadata": {
        "id": "view-in-github",
        "colab_type": "text"
      },
      "source": [
        "<a href=\"https://colab.research.google.com/github/paragkhandait94/OCR/blob/main/Image_Classification.ipynb\" target=\"_parent\"><img src=\"https://colab.research.google.com/assets/colab-badge.svg\" alt=\"Open In Colab\"/></a>"
      ]
    },
    {
      "cell_type": "code",
      "execution_count": 1,
      "metadata": {
        "id": "11p_3aXpFMII"
      },
      "outputs": [],
      "source": [
        "import keras\n"
      ]
    },
    {
      "cell_type": "code",
      "source": [
        "from keras.datasets import mnist"
      ],
      "metadata": {
        "id": "CAptkEWVGPaP"
      },
      "execution_count": 3,
      "outputs": []
    },
    {
      "cell_type": "code",
      "source": [
        "(X_train, y_train), (X_test, y_test) = mnist.load_data()"
      ],
      "metadata": {
        "colab": {
          "base_uri": "https://localhost:8080/"
        },
        "id": "98zI3kOQGSqc",
        "outputId": "cf49e625-ef8b-4eb4-add9-72a83d4a3160"
      },
      "execution_count": 4,
      "outputs": [
        {
          "output_type": "stream",
          "name": "stdout",
          "text": [
            "Downloading data from https://storage.googleapis.com/tensorflow/tf-keras-datasets/mnist.npz\n",
            "11490434/11490434 [==============================] - 0s 0us/step\n"
          ]
        }
      ]
    },
    {
      "cell_type": "code",
      "source": [
        "print(\"X_train shape\", X_train.shape)\n",
        "print(\"y_train shape\", y_train.shape)\n",
        "print(\"X_test shape\", X_test.shape)\n",
        "print(\"y_test shape\", y_test.shape)"
      ],
      "metadata": {
        "colab": {
          "base_uri": "https://localhost:8080/"
        },
        "id": "BGiHdSywG6b0",
        "outputId": "a96b8a5b-f833-4299-e75b-035d9dda4069"
      },
      "execution_count": 5,
      "outputs": [
        {
          "output_type": "stream",
          "name": "stdout",
          "text": [
            "X_train shape (60000, 28, 28)\n",
            "y_train shape (60000,)\n",
            "X_test shape (10000, 28, 28)\n",
            "y_test shape (10000,)\n"
          ]
        }
      ]
    },
    {
      "cell_type": "code",
      "source": [
        "from keras.datasets import mnist\n",
        "from keras.models import Sequential\n",
        "from keras.layers import Dense, Dropout, Conv2D, MaxPool2D\n",
        "# from keras.utils import np_utils"
      ],
      "metadata": {
        "id": "og7tKQhaHWj4"
      },
      "execution_count": 7,
      "outputs": []
    },
    {
      "cell_type": "code",
      "source": [
        "X_train = X_train.reshape(60000, 784)\n",
        "X_test = X_test.reshape(10000, 784)\n",
        "X_train = X_train.astype('float32')\n",
        "X_test = X_test.astype('float32')"
      ],
      "metadata": {
        "id": "--ocveEwHxx7"
      },
      "execution_count": 8,
      "outputs": []
    },
    {
      "cell_type": "code",
      "source": [
        "X_train /= 255\n",
        "X_test /= 255\n",
        "\n",
        "# one-hot encoding using keras' numpy-related utilities\n",
        "n_classes = 10\n",
        "print(\"Shape before one-hot encoding: \", y_train.shape)\n",
        "Y_train = keras.utils.to_categorical(y_train, n_classes)\n",
        "Y_test = keras.utils.to_categorical(y_test, n_classes)\n",
        "print(\"Shape after one-hot encoding: \", Y_train.shape)"
      ],
      "metadata": {
        "colab": {
          "base_uri": "https://localhost:8080/"
        },
        "id": "NnVPbm95H1xf",
        "outputId": "399354fe-9a93-48d2-903d-6cf61f2cd97b"
      },
      "execution_count": 10,
      "outputs": [
        {
          "output_type": "stream",
          "name": "stdout",
          "text": [
            "Shape before one-hot encoding:  (60000,)\n",
            "Shape after one-hot encoding:  (60000, 10)\n"
          ]
        }
      ]
    },
    {
      "cell_type": "code",
      "source": [
        "# building a linear stack of layers with the sequential model\n",
        "model = Sequential()\n",
        "# hidden layer\n",
        "model.add(Dense(100, input_shape=(784,), activation='relu'))\n",
        "# output layer\n",
        "model.add(Dense(10, activation='softmax'))\n",
        "\n",
        "# looking at the model summary\n",
        "model.summary()\n",
        "# compiling the sequential model\n",
        "model.compile(loss='categorical_crossentropy', metrics=['accuracy'], optimizer='adam')\n",
        "# training the model for 10 epochs\n",
        "model.fit(X_train, Y_train, batch_size=128, epochs=15, validation_data=(X_test, Y_test))"
      ],
      "metadata": {
        "colab": {
          "base_uri": "https://localhost:8080/"
        },
        "id": "uyfGh16OIEj0",
        "outputId": "dfb22597-776c-4ff0-bc54-f51a066eb3d7"
      },
      "execution_count": 12,
      "outputs": [
        {
          "output_type": "stream",
          "name": "stdout",
          "text": [
            "Model: \"sequential_1\"\n",
            "_________________________________________________________________\n",
            " Layer (type)                Output Shape              Param #   \n",
            "=================================================================\n",
            " dense_2 (Dense)             (None, 100)               78500     \n",
            "                                                                 \n",
            " dense_3 (Dense)             (None, 10)                1010      \n",
            "                                                                 \n",
            "=================================================================\n",
            "Total params: 79510 (310.59 KB)\n",
            "Trainable params: 79510 (310.59 KB)\n",
            "Non-trainable params: 0 (0.00 Byte)\n",
            "_________________________________________________________________\n",
            "Epoch 1/15\n",
            "469/469 [==============================] - 3s 5ms/step - loss: 1.8447 - accuracy: 0.5524 - val_loss: 1.2433 - val_accuracy: 0.7338\n",
            "Epoch 2/15\n",
            "469/469 [==============================] - 3s 7ms/step - loss: 0.9508 - accuracy: 0.7910 - val_loss: 0.7283 - val_accuracy: 0.8373\n",
            "Epoch 3/15\n",
            "469/469 [==============================] - 2s 5ms/step - loss: 0.6377 - accuracy: 0.8482 - val_loss: 0.5410 - val_accuracy: 0.8657\n",
            "Epoch 4/15\n",
            "469/469 [==============================] - 2s 4ms/step - loss: 0.5050 - accuracy: 0.8735 - val_loss: 0.4489 - val_accuracy: 0.8847\n",
            "Epoch 5/15\n",
            "469/469 [==============================] - 2s 5ms/step - loss: 0.4349 - accuracy: 0.8857 - val_loss: 0.3977 - val_accuracy: 0.8954\n",
            "Epoch 6/15\n",
            "469/469 [==============================] - 2s 4ms/step - loss: 0.3931 - accuracy: 0.8935 - val_loss: 0.3646 - val_accuracy: 0.9026\n",
            "Epoch 7/15\n",
            "469/469 [==============================] - 2s 5ms/step - loss: 0.3657 - accuracy: 0.8983 - val_loss: 0.3421 - val_accuracy: 0.9055\n",
            "Epoch 8/15\n",
            "469/469 [==============================] - 3s 7ms/step - loss: 0.3463 - accuracy: 0.9025 - val_loss: 0.3263 - val_accuracy: 0.9077\n",
            "Epoch 9/15\n",
            "469/469 [==============================] - 2s 5ms/step - loss: 0.3321 - accuracy: 0.9057 - val_loss: 0.3165 - val_accuracy: 0.9108\n",
            "Epoch 10/15\n",
            "469/469 [==============================] - 2s 5ms/step - loss: 0.3209 - accuracy: 0.9085 - val_loss: 0.3053 - val_accuracy: 0.9130\n",
            "Epoch 11/15\n",
            "469/469 [==============================] - 2s 5ms/step - loss: 0.3118 - accuracy: 0.9106 - val_loss: 0.2976 - val_accuracy: 0.9145\n",
            "Epoch 12/15\n",
            "469/469 [==============================] - 2s 5ms/step - loss: 0.3038 - accuracy: 0.9127 - val_loss: 0.2925 - val_accuracy: 0.9149\n",
            "Epoch 13/15\n",
            "469/469 [==============================] - 2s 5ms/step - loss: 0.2971 - accuracy: 0.9144 - val_loss: 0.2865 - val_accuracy: 0.9169\n",
            "Epoch 14/15\n",
            "469/469 [==============================] - 3s 7ms/step - loss: 0.2915 - accuracy: 0.9161 - val_loss: 0.2811 - val_accuracy: 0.9189\n",
            "Epoch 15/15\n",
            "469/469 [==============================] - 2s 4ms/step - loss: 0.2860 - accuracy: 0.9172 - val_loss: 0.2769 - val_accuracy: 0.9201\n"
          ]
        },
        {
          "output_type": "execute_result",
          "data": {
            "text/plain": [
              "<keras.src.callbacks.History at 0x7a492c0c65f0>"
            ]
          },
          "metadata": {},
          "execution_count": 12
        }
      ]
    },
    {
      "cell_type": "markdown",
      "source": [
        "# Image Classification for CIFAR-10 dataset"
      ],
      "metadata": {
        "id": "n4OASfJ6JVKS"
      }
    },
    {
      "cell_type": "code",
      "source": [
        "# keras imports for the dataset and building our neural network\n",
        "from keras.datasets import cifar10\n",
        "from keras.models import Sequential\n",
        "from keras.layers import Dense, Dropout, Conv2D, MaxPool2D, Flatten\n",
        "# from keras.utils import np_utils\n",
        "\n",
        "# loading the dataset\n",
        "(X_train, y_train), (X_test, y_test) = cifar10.load_data()\n",
        "\n",
        "# # building the input vector from the 32x32 pixels\n",
        "X_train = X_train.reshape(X_train.shape[0], 32, 32, 3)\n",
        "X_test = X_test.reshape(X_test.shape[0], 32, 32, 3)\n",
        "X_train = X_train.astype('float32')\n",
        "X_test = X_test.astype('float32')\n",
        "\n",
        "# normalizing the data to help with the training\n",
        "X_train /= 255\n",
        "X_test /= 255\n",
        "\n",
        "# one-hot encoding using keras' numpy-related utilities\n",
        "n_classes = 10\n",
        "print(\"Shape before one-hot encoding: \", y_train.shape)\n",
        "Y_train = keras.utils.to_categorical(y_train, n_classes)\n",
        "Y_test = keras.utils.to_categorical(y_test, n_classes)\n",
        "print(\"Shape after one-hot encoding: \", Y_train.shape)\n",
        "\n",
        "# building a linear stack of layers with the sequential model\n",
        "model = Sequential()\n",
        "\n",
        "# convolutional layer\n",
        "model.add(Conv2D(50, kernel_size=(3,3), strides=(1,1), padding='same', activation='relu', input_shape=(32, 32, 3)))\n",
        "\n",
        "# convolutional layer\n",
        "model.add(Conv2D(75, kernel_size=(3,3), strides=(1,1), padding='same', activation='relu'))\n",
        "model.add(MaxPool2D(pool_size=(2,2)))\n",
        "model.add(Dropout(0.25))\n",
        "\n",
        "model.add(Conv2D(125, kernel_size=(3,3), strides=(1,1), padding='same', activation='relu'))\n",
        "model.add(MaxPool2D(pool_size=(2,2)))\n",
        "model.add(Dropout(0.25))\n",
        "\n",
        "# flatten output of conv\n",
        "model.add(Flatten())\n",
        "\n",
        "# hidden layer\n",
        "model.add(Dense(500, activation='relu'))\n",
        "model.add(Dropout(0.4))\n",
        "model.add(Dense(250, activation='relu'))\n",
        "model.add(Dropout(0.3))\n",
        "# output layer\n",
        "model.add(Dense(10, activation='softmax'))\n",
        "\n",
        "# compiling the sequential model\n",
        "model.compile(loss='categorical_crossentropy', metrics=['accuracy'], optimizer='adam')\n",
        "\n",
        "# training the model for 10 epochs\n",
        "model.fit(X_train, Y_train, batch_size=128, epochs=10, validation_data=(X_test, Y_test))"
      ],
      "metadata": {
        "colab": {
          "base_uri": "https://localhost:8080/"
        },
        "id": "G-FylN51JUWc",
        "outputId": "941cf0aa-114b-4927-d237-8607e11ece92"
      },
      "execution_count": null,
      "outputs": [
        {
          "output_type": "stream",
          "name": "stdout",
          "text": [
            "Downloading data from https://www.cs.toronto.edu/~kriz/cifar-10-python.tar.gz\n",
            "170498071/170498071 [==============================] - 2s 0us/step\n",
            "Shape before one-hot encoding:  (50000, 1)\n",
            "Shape after one-hot encoding:  (50000, 10)\n",
            "Epoch 1/10\n",
            "391/391 [==============================] - 541s 1s/step - loss: 1.6451 - accuracy: 0.3898 - val_loss: 1.2717 - val_accuracy: 0.5379\n",
            "Epoch 2/10\n",
            "391/391 [==============================] - 538s 1s/step - loss: 1.1628 - accuracy: 0.5872 - val_loss: 0.9725 - val_accuracy: 0.6569\n",
            "Epoch 3/10\n",
            "391/391 [==============================] - 535s 1s/step - loss: 0.9561 - accuracy: 0.6642 - val_loss: 0.8275 - val_accuracy: 0.7085\n",
            "Epoch 4/10\n",
            "391/391 [==============================] - 521s 1s/step - loss: 0.8349 - accuracy: 0.7089 - val_loss: 0.7691 - val_accuracy: 0.7365\n",
            "Epoch 5/10\n",
            "391/391 [==============================] - 531s 1s/step - loss: 0.7498 - accuracy: 0.7373 - val_loss: 0.7095 - val_accuracy: 0.7514\n",
            "Epoch 6/10\n",
            "391/391 [==============================] - 515s 1s/step - loss: 0.6785 - accuracy: 0.7637 - val_loss: 0.6907 - val_accuracy: 0.7611\n",
            "Epoch 7/10\n",
            "391/391 [==============================] - 518s 1s/step - loss: 0.6169 - accuracy: 0.7841 - val_loss: 0.6695 - val_accuracy: 0.7694\n",
            "Epoch 8/10\n",
            "391/391 [==============================] - 517s 1s/step - loss: 0.5746 - accuracy: 0.7998 - val_loss: 0.6598 - val_accuracy: 0.7732\n",
            "Epoch 9/10\n",
            "123/391 [========>.....................] - ETA: 5:35 - loss: 0.5133 - accuracy: 0.8219"
          ]
        }
      ]
    }
  ]
}